{
 "cells": [
  {
   "cell_type": "markdown",
   "id": "bf87774e-c9bf-4f9e-9be9-db9c1785a31e",
   "metadata": {
    "id": "bf87774e-c9bf-4f9e-9be9-db9c1785a31e"
   },
   "source": [
    "# Data Sampling: Stratified Sampling"
   ]
  },
  {
   "cell_type": "markdown",
   "id": "05dbb413-15de-49a5-891d-0090b5a9ca71",
   "metadata": {
    "id": "05dbb413-15de-49a5-891d-0090b5a9ca71"
   },
   "source": [
    "**1. calculating the frequency of each class**"
   ]
  },
  {
   "cell_type": "code",
   "execution_count": 1,
   "id": "9c6dac55-906f-4416-b05c-f354189f5950",
   "metadata": {
    "id": "9c6dac55-906f-4416-b05c-f354189f5950"
   },
   "outputs": [],
   "source": [
    "import os\n",
    "from collections import defaultdict\n",
    "\n",
    "class_count = defaultdict(int)\n",
    "\n",
    "def count_classes_in_directory(directory_path):\n",
    "    for filename in os.listdir(directory_path):\n",
    "        if filename.endswith(\".txt\"):\n",
    "            file_path = os.path.join(directory_path, filename)\n",
    "            with open(file_path, 'r') as file:\n",
    "                for line in file:\n",
    "                    class_id = int(line.split()[0])\n",
    "                    class_count[class_id] += 1\n",
    "\n",
    "    for class_id in range(53):\n",
    "        print(f\"Class {class_id}: {class_count[class_id]} occurrences\")\n",
    "\n",
    "    return class_count"
   ]
  },
  {
   "cell_type": "code",
   "execution_count": 2,
   "id": "68ecda37-8ddc-499e-ba4e-d7e67bed6c3a",
   "metadata": {
    "id": "68ecda37-8ddc-499e-ba4e-d7e67bed6c3a",
    "outputId": "fcdd4f9f-c2c0-410b-e5a8-d835636aa928"
   },
   "outputs": [
    {
     "name": "stdout",
     "output_type": "stream",
     "text": [
      "Class 0: 986 occurrences\n",
      "Class 1: 999 occurrences\n",
      "Class 2: 1005 occurrences\n",
      "Class 3: 1032 occurrences\n",
      "Class 4: 1062 occurrences\n",
      "Class 5: 1071 occurrences\n",
      "Class 6: 1046 occurrences\n",
      "Class 7: 955 occurrences\n",
      "Class 8: 1034 occurrences\n",
      "Class 9: 973 occurrences\n",
      "Class 10: 1098 occurrences\n",
      "Class 11: 1066 occurrences\n",
      "Class 12: 985 occurrences\n",
      "Class 13: 997 occurrences\n",
      "Class 14: 1117 occurrences\n",
      "Class 15: 1005 occurrences\n",
      "Class 16: 942 occurrences\n",
      "Class 17: 1001 occurrences\n",
      "Class 18: 1039 occurrences\n",
      "Class 19: 1004 occurrences\n",
      "Class 20: 997 occurrences\n",
      "Class 21: 1039 occurrences\n",
      "Class 22: 993 occurrences\n",
      "Class 23: 1011 occurrences\n",
      "Class 24: 994 occurrences\n",
      "Class 25: 1085 occurrences\n",
      "Class 26: 978 occurrences\n",
      "Class 27: 978 occurrences\n",
      "Class 28: 1012 occurrences\n",
      "Class 29: 1171 occurrences\n",
      "Class 30: 989 occurrences\n",
      "Class 31: 998 occurrences\n",
      "Class 32: 950 occurrences\n",
      "Class 33: 980 occurrences\n",
      "Class 34: 1049 occurrences\n",
      "Class 35: 1006 occurrences\n",
      "Class 36: 1062 occurrences\n",
      "Class 37: 1015 occurrences\n",
      "Class 38: 1028 occurrences\n",
      "Class 39: 1042 occurrences\n",
      "Class 40: 1022 occurrences\n",
      "Class 41: 1075 occurrences\n",
      "Class 42: 971 occurrences\n",
      "Class 43: 1013 occurrences\n",
      "Class 44: 1014 occurrences\n",
      "Class 45: 1014 occurrences\n",
      "Class 46: 1034 occurrences\n",
      "Class 47: 1037 occurrences\n",
      "Class 48: 938 occurrences\n",
      "Class 49: 1050 occurrences\n",
      "Class 50: 1046 occurrences\n",
      "Class 51: 995 occurrences\n",
      "Class 52: 242 occurrences\n",
      "No of classses used for training: 53\n"
     ]
    }
   ],
   "source": [
    "train_images_path = './train/images'\n",
    "train_labels_path = './train/labels'\n",
    "\n",
    "train_class_count = count_classes_in_directory(train_labels_path)\n",
    "print(f\"No of classses used for training: {len(train_class_count)}\")"
   ]
  },
  {
   "cell_type": "code",
   "execution_count": 3,
   "id": "adc0dc66-3e83-4edb-896b-ec4ba77cb617",
   "metadata": {
    "id": "adc0dc66-3e83-4edb-896b-ec4ba77cb617",
    "outputId": "137cbda6-5b4b-4e55-a54e-1c85edcca12e"
   },
   "outputs": [
    {
     "name": "stdout",
     "output_type": "stream",
     "text": [
      "Class 0: 1268 occurrences\n",
      "Class 1: 1289 occurrences\n",
      "Class 2: 1327 occurrences\n",
      "Class 3: 1282 occurrences\n",
      "Class 4: 1357 occurrences\n",
      "Class 5: 1330 occurrences\n",
      "Class 6: 1340 occurrences\n",
      "Class 7: 1254 occurrences\n",
      "Class 8: 1342 occurrences\n",
      "Class 9: 1223 occurrences\n",
      "Class 10: 1411 occurrences\n",
      "Class 11: 1424 occurrences\n",
      "Class 12: 1261 occurrences\n",
      "Class 13: 1279 occurrences\n",
      "Class 14: 1429 occurrences\n",
      "Class 15: 1300 occurrences\n",
      "Class 16: 1232 occurrences\n",
      "Class 17: 1284 occurrences\n",
      "Class 18: 1292 occurrences\n",
      "Class 19: 1285 occurrences\n",
      "Class 20: 1281 occurrences\n",
      "Class 21: 1325 occurrences\n",
      "Class 22: 1322 occurrences\n",
      "Class 23: 1300 occurrences\n",
      "Class 24: 1298 occurrences\n",
      "Class 25: 1396 occurrences\n",
      "Class 26: 1281 occurrences\n",
      "Class 27: 1282 occurrences\n",
      "Class 28: 1297 occurrences\n",
      "Class 29: 1432 occurrences\n",
      "Class 30: 1244 occurrences\n",
      "Class 31: 1337 occurrences\n",
      "Class 32: 1259 occurrences\n",
      "Class 33: 1255 occurrences\n",
      "Class 34: 1321 occurrences\n",
      "Class 35: 1269 occurrences\n",
      "Class 36: 1350 occurrences\n",
      "Class 37: 1309 occurrences\n",
      "Class 38: 1311 occurrences\n",
      "Class 39: 1364 occurrences\n",
      "Class 40: 1287 occurrences\n",
      "Class 41: 1360 occurrences\n",
      "Class 42: 1249 occurrences\n",
      "Class 43: 1295 occurrences\n",
      "Class 44: 1321 occurrences\n",
      "Class 45: 1318 occurrences\n",
      "Class 46: 1331 occurrences\n",
      "Class 47: 1301 occurrences\n",
      "Class 48: 1238 occurrences\n",
      "Class 49: 1367 occurrences\n",
      "Class 50: 1341 occurrences\n",
      "Class 51: 1312 occurrences\n",
      "Class 52: 252 occurrences\n",
      "No of classses used for validation: 53\n"
     ]
    }
   ],
   "source": [
    "valid_images_path = './valid/images'\n",
    "valid_labels_path = './valid/labels'\n",
    "\n",
    "valid_class_count = count_classes_in_directory(valid_labels_path)\n",
    "print(f\"No of classses used for validation: {len(valid_class_count)}\")"
   ]
  },
  {
   "cell_type": "code",
   "execution_count": 4,
   "id": "60887d52-331e-4e84-9857-c2349f736f9d",
   "metadata": {
    "id": "60887d52-331e-4e84-9857-c2349f736f9d",
    "outputId": "d7754b17-4772-49f0-8e62-17edeacfff55"
   },
   "outputs": [
    {
     "name": "stdout",
     "output_type": "stream",
     "text": [
      "training images per class 100\n"
     ]
    }
   ],
   "source": [
    "training_images_per_class = 5300 // 53\n",
    "print(f\"training images per class {training_images_per_class}\")"
   ]
  },
  {
   "cell_type": "code",
   "execution_count": 5,
   "id": "e6a43b33-c4b6-4ec9-895a-8bd7b23643d5",
   "metadata": {
    "id": "e6a43b33-c4b6-4ec9-895a-8bd7b23643d5",
    "outputId": "d14e534f-5370-43fb-d13b-ea1fcde4b9fe"
   },
   "outputs": [
    {
     "name": "stdout",
     "output_type": "stream",
     "text": [
      "training images per class 20\n"
     ]
    }
   ],
   "source": [
    "validation_images_per_class = 1060 // 53\n",
    "print(f\"training images per class {validation_images_per_class}\")"
   ]
  },
  {
   "cell_type": "code",
   "execution_count": 2,
   "id": "89f76918-ddfd-4c4d-8150-c7c2796b09ba",
   "metadata": {
    "id": "89f76918-ddfd-4c4d-8150-c7c2796b09ba"
   },
   "outputs": [],
   "source": [
    "def get_sample_count(class_count, images_per_class):\n",
    "    sample_count_per_class = {}\n",
    "\n",
    "    for class_id, count in class_count.items():\n",
    "        sample_count_per_class[class_id] = min(images_per_class, count)\n",
    "\n",
    "    sample_count_per_class = dict(sorted(sample_count_per_class.items()))\n",
    "    print(sample_count_per_class)\n",
    "    return sample_count_per_class"
   ]
  },
  {
   "cell_type": "code",
   "execution_count": 7,
   "id": "f8c8ab33-cc98-4269-9d05-48fe3f712d61",
   "metadata": {
    "id": "f8c8ab33-cc98-4269-9d05-48fe3f712d61",
    "outputId": "f098d7bd-14ad-471c-cbc4-cfe8da837e7f"
   },
   "outputs": [
    {
     "name": "stdout",
     "output_type": "stream",
     "text": [
      "{0: 100, 1: 100, 2: 100, 3: 100, 4: 100, 5: 100, 6: 100, 7: 100, 8: 100, 9: 100, 10: 100, 11: 100, 12: 100, 13: 100, 14: 100, 15: 100, 16: 100, 17: 100, 18: 100, 19: 100, 20: 100, 21: 100, 22: 100, 23: 100, 24: 100, 25: 100, 26: 100, 27: 100, 28: 100, 29: 100, 30: 100, 31: 100, 32: 100, 33: 100, 34: 100, 35: 100, 36: 100, 37: 100, 38: 100, 39: 100, 40: 100, 41: 100, 42: 100, 43: 100, 44: 100, 45: 100, 46: 100, 47: 100, 48: 100, 49: 100, 50: 100, 51: 100, 52: 100}\n"
     ]
    }
   ],
   "source": [
    "train_sample_count = get_sample_count(train_class_count, training_images_per_class)"
   ]
  },
  {
   "cell_type": "code",
   "execution_count": 8,
   "id": "2e124185-88f5-4a9e-a84b-3d69d2587bc4",
   "metadata": {
    "id": "2e124185-88f5-4a9e-a84b-3d69d2587bc4",
    "outputId": "62662d23-e587-4a7f-825c-1354731c60be"
   },
   "outputs": [
    {
     "name": "stdout",
     "output_type": "stream",
     "text": [
      "{0: 20, 1: 20, 2: 20, 3: 20, 4: 20, 5: 20, 6: 20, 7: 20, 8: 20, 9: 20, 10: 20, 11: 20, 12: 20, 13: 20, 14: 20, 15: 20, 16: 20, 17: 20, 18: 20, 19: 20, 20: 20, 21: 20, 22: 20, 23: 20, 24: 20, 25: 20, 26: 20, 27: 20, 28: 20, 29: 20, 30: 20, 31: 20, 32: 20, 33: 20, 34: 20, 35: 20, 36: 20, 37: 20, 38: 20, 39: 20, 40: 20, 41: 20, 42: 20, 43: 20, 44: 20, 45: 20, 46: 20, 47: 20, 48: 20, 49: 20, 50: 20, 51: 20, 52: 20}\n"
     ]
    }
   ],
   "source": [
    "valid_sample_count = get_sample_count(valid_class_count, validation_images_per_class)"
   ]
  },
  {
   "cell_type": "code",
   "execution_count": 3,
   "id": "ab641faf-7d14-46b7-8364-100a64aa1e09",
   "metadata": {
    "id": "ab641faf-7d14-46b7-8364-100a64aa1e09"
   },
   "outputs": [],
   "source": [
    "def class_image_mapping(image_folder, label_folder):\n",
    "    images = []\n",
    "    image_labels = []\n",
    "\n",
    "    image_extensions = ['.jpg', '.jpeg', '.png']\n",
    "    label_extension = '.txt'\n",
    "\n",
    "    image_files = os.listdir(image_folder)\n",
    "    label_files = os.listdir(label_folder)\n",
    "\n",
    "    label_files_without_ext = [os.path.splitext(f)[0] for f in label_files]\n",
    "\n",
    "    for image_file in image_files:\n",
    "        base_filename = os.path.splitext(image_file)[0]\n",
    "\n",
    "        if base_filename in label_files_without_ext:\n",
    "            image_path = os.path.join(image_folder, image_file)\n",
    "            label_path = os.path.join(label_folder, base_filename + label_extension)\n",
    "\n",
    "            images.append(image_path)\n",
    "            image_labels.append(label_path)\n",
    "\n",
    "    print(f\"Found {len(images)} matching images and labels.\")\n",
    "    print(\"Sample image path:\", images[0])\n",
    "    print(\"Sample label path:\", image_labels[0])\n",
    "\n",
    "    class_to_images = defaultdict(list)\n",
    "\n",
    "    image_files = [filename for filename in os.listdir(image_folder) if filename.endswith(('.png', '.jpg', '.jpeg'))]\n",
    "\n",
    "    for image_file in image_files:\n",
    "        base_filename = os.path.splitext(image_file)[0]\n",
    "        label_file = base_filename + \".txt\"\n",
    "\n",
    "        label_path = os.path.join(label_folder, label_file)\n",
    "        if os.path.exists(label_path):\n",
    "            with open(label_path, 'r') as file:\n",
    "                for line in file:\n",
    "                    class_id = int(line.split()[0])\n",
    "                    class_to_images[class_id].append(os.path.join(image_folder, image_file))\n",
    "\n",
    "    return class_to_images"
   ]
  },
  {
   "cell_type": "code",
   "execution_count": 10,
   "id": "d95f63ce-6052-49d7-9398-43b823c06152",
   "metadata": {
    "id": "d95f63ce-6052-49d7-9398-43b823c06152",
    "outputId": "6f9b57d8-9b48-4b03-857a-ac97d4ccbed0"
   },
   "outputs": [
    {
     "name": "stdout",
     "output_type": "stream",
     "text": [
      "Found 14115 matching images and labels.\n",
      "Sample image path: ./train/images/545536249_jpg.rf.763fee1f44a06f72ee8421fbfa2ef007.jpg\n",
      "Sample label path: ./train/labels/545536249_jpg.rf.763fee1f44a06f72ee8421fbfa2ef007.txt\n"
     ]
    }
   ],
   "source": [
    "train_class_image_mapping = class_image_mapping(train_images_path, train_labels_path)"
   ]
  },
  {
   "cell_type": "code",
   "execution_count": 11,
   "id": "156b5a03-bd17-4515-8e8c-4f0349cd4e7e",
   "metadata": {
    "id": "156b5a03-bd17-4515-8e8c-4f0349cd4e7e",
    "outputId": "8189453c-ce8d-42f4-d20a-23676ed0cbf7"
   },
   "outputs": [
    {
     "name": "stdout",
     "output_type": "stream",
     "text": [
      "Found 4005 matching images and labels.\n",
      "Sample image path: ./valid/images/648334176_jpg.rf.b5519119caaf50cacdea32b173963c38.jpg\n",
      "Sample label path: ./valid/labels/648334176_jpg.rf.b5519119caaf50cacdea32b173963c38.txt\n"
     ]
    }
   ],
   "source": [
    "valid_class_image_mapping = class_image_mapping(valid_images_path, valid_labels_path)"
   ]
  },
  {
   "cell_type": "code",
   "execution_count": 4,
   "id": "f8442571-4eec-4207-9045-0d91304c35eb",
   "metadata": {
    "id": "f8442571-4eec-4207-9045-0d91304c35eb"
   },
   "outputs": [],
   "source": [
    "import random\n",
    "\n",
    "def stratified_random_sampling(sample_count_per_class, class_to_images):\n",
    "    selected_images = set()\n",
    "\n",
    "    for class_id, count in sample_count_per_class.items():\n",
    "        available_images = class_to_images[class_id]\n",
    "\n",
    "        if count > len(available_images):\n",
    "            print(f\"Warning: Class {class_id} has only {len(available_images)} images but needs {count}. Adjusting to available count.\")\n",
    "            count = len(available_images)\n",
    "\n",
    "        sampled_images = random.sample(available_images, count)\n",
    "        selected_images.update(sampled_images)\n",
    "\n",
    "    selected_images = list(selected_images)\n",
    "\n",
    "    print(f\"Total images selected: {len(selected_images)}\")\n",
    "    return selected_images\n"
   ]
  },
  {
   "cell_type": "code",
   "execution_count": 13,
   "id": "cec881dd-be23-4501-a99e-fa98c54aed6f",
   "metadata": {
    "id": "cec881dd-be23-4501-a99e-fa98c54aed6f",
    "outputId": "867c1b28-9d9a-49bf-f856-c5a517d37af5"
   },
   "outputs": [
    {
     "name": "stdout",
     "output_type": "stream",
     "text": [
      "Total images selected: 4582\n"
     ]
    }
   ],
   "source": [
    "train_sample = stratified_random_sampling(train_sample_count, train_class_image_mapping)"
   ]
  },
  {
   "cell_type": "code",
   "execution_count": 14,
   "id": "ffd6d744-ad0e-4884-b293-04855522d0e9",
   "metadata": {
    "id": "ffd6d744-ad0e-4884-b293-04855522d0e9",
    "outputId": "1a1a21f0-e858-4e6d-d1e7-a47963d5eed2"
   },
   "outputs": [
    {
     "name": "stdout",
     "output_type": "stream",
     "text": [
      "Warning: Class 52 has only 10 images but needs 20. Adjusting to available count.\n",
      "Total images selected: 948\n"
     ]
    }
   ],
   "source": [
    "valid_sample = stratified_random_sampling(valid_sample_count, valid_class_image_mapping)"
   ]
  },
  {
   "cell_type": "code",
   "execution_count": 5,
   "id": "12b03cc2-e975-4a77-9072-657d5a8fdfab",
   "metadata": {
    "id": "12b03cc2-e975-4a77-9072-657d5a8fdfab"
   },
   "outputs": [],
   "source": [
    "import os\n",
    "import shutil\n",
    "label_extension = \".txt\"\n",
    "def create_sample_data(selected_images, path, labels_path):\n",
    "    sample_images_folder = path + '/images'\n",
    "    sample_labels_folder = path + '/labels'\n",
    "\n",
    "\n",
    "    os.makedirs(sample_images_folder, exist_ok=True)\n",
    "    os.makedirs(sample_labels_folder, exist_ok=True)\n",
    "\n",
    "    processed_files = 0\n",
    "    files_not_found = 0\n",
    "    for image in selected_images:\n",
    "        shutil.copy(image, sample_images_folder)\n",
    "\n",
    "        base_filename = os.path.splitext(os.path.basename(image))[0]\n",
    "        label_file_path = os.path.join(labels_path, base_filename + label_extension)\n",
    "\n",
    "        if os.path.exists(label_file_path):\n",
    "            shutil.copy(label_file_path, sample_labels_folder)\n",
    "            processed_files += 1\n",
    "        else:\n",
    "            # print(f\"Warning: Label file for {image} does not exist.\")\n",
    "            files_not_found+=1\n",
    "            \n",
    "\n",
    "    print(f\"processed files {processed_files}, files not found {files_not_found}\")\n",
    "    print(f\"Copied {len(selected_images)} images to /sample\")"
   ]
  },
  {
   "cell_type": "code",
   "execution_count": 19,
   "id": "5d0ddb65-639d-420d-a59f-58559d8f0aed",
   "metadata": {
    "id": "5d0ddb65-639d-420d-a59f-58559d8f0aed",
    "outputId": "14187248-d301-4b73-e111-da9263573bff"
   },
   "outputs": [
    {
     "name": "stdout",
     "output_type": "stream",
     "text": [
      "processed files 4582, files not found 0\n",
      "Copied 4582 images to /sample\n"
     ]
    }
   ],
   "source": [
    "path_train_sample = \"./dataset/train\"\n",
    "create_sample_data(train_sample, path_train_sample, train_labels_path)"
   ]
  },
  {
   "cell_type": "code",
   "execution_count": 20,
   "id": "bb9799d7-3c1e-498f-aaf9-256b92c83701",
   "metadata": {
    "id": "bb9799d7-3c1e-498f-aaf9-256b92c83701",
    "outputId": "7634c19b-f8ef-49db-b572-9e0c50081797"
   },
   "outputs": [
    {
     "name": "stdout",
     "output_type": "stream",
     "text": [
      "processed files 948, files not found 0\n",
      "Copied 948 images to /sample\n"
     ]
    }
   ],
   "source": [
    "valid_train_sample = \"./dataset/valid\"\n",
    "create_sample_data(valid_sample, valid_train_sample, valid_labels_path)"
   ]
  },
  {
   "cell_type": "code",
   "execution_count": 23,
   "id": "6e6976a1-f065-4e63-a251-697c6a0e7a19",
   "metadata": {},
   "outputs": [],
   "source": [
    "import os\n",
    "import cv2\n",
    "\n",
    "def resize_image_and_adjust_labels(image_path, label_path, output_image_path, output_label_path, new_width, new_height):\n",
    "    os.makedirs(os.path.dirname(output_image_path), exist_ok=True)\n",
    "    os.makedirs(os.path.dirname(output_label_path), exist_ok=True)\n",
    "    \n",
    "    # Read the image\n",
    "    img = cv2.imread(image_path)\n",
    "    old_height, old_width = img.shape[:2]\n",
    "\n",
    "    # Resize the image\n",
    "    img_resized = cv2.resize(img, (new_width, new_height))\n",
    "    cv2.imwrite(output_image_path, img_resized)  # Save the resized image\n",
    "\n",
    "    # Read YOLO labels\n",
    "    with open(label_path, 'r') as f:\n",
    "        labels = f.readlines()\n",
    "\n",
    "    # Adjust labels\n",
    "    new_labels = []\n",
    "    for label in labels:\n",
    "        parts = label.strip().split()\n",
    "        class_id = parts[0]\n",
    "        x_center = float(parts[1])\n",
    "        y_center = float(parts[2])\n",
    "        width = float(parts[3])\n",
    "        height = float(parts[4])\n",
    "\n",
    "        # Scale bounding box coordinates to the new image dimensions\n",
    "        new_x_center = x_center * old_width / new_width\n",
    "        new_y_center = y_center * old_height / new_height\n",
    "        new_width_box = width * old_width / new_width\n",
    "        new_height_box = height * old_height / new_height\n",
    "\n",
    "        # Create new label line\n",
    "        new_labels.append(f\"{class_id} {new_x_center:.6f} {new_y_center:.6f} {new_width_box:.6f} {new_height_box:.6f}\\n\")\n",
    "\n",
    "    # Save new labels to the output file\n",
    "    with open(output_label_path, 'w') as f:\n",
    "        f.writelines(new_labels)\n",
    "\n",
    "image_path = './datasets/train/images/002.jpg'\n",
    "label_path = './datasets/train/labels/002.txt'\n",
    "output_image_path = './datasets/resized/train/images/002.jpg'\n",
    "output_label_path = './datasets/resized/train/labels/002.txt'\n",
    "new_width = 416\n",
    "new_height = 416\n",
    "\n",
    "resize_image_and_adjust_labels(image_path, label_path, output_image_path, output_label_path, new_width, new_height)\n"
   ]
  },
  {
   "cell_type": "code",
   "execution_count": 27,
   "id": "2672be2c-0e4c-4669-b90e-5fc2cb35bc90",
   "metadata": {},
   "outputs": [],
   "source": [
    "directory_path = \"./datasets/train/images\"\n",
    "for filename in os.listdir(directory_path):\n",
    "        if filename.endswith(\".jpg\"):\n",
    "            file_path = os.path.join(directory_path, filename)\n",
    "            img = cv2.imread(file_path)\n",
    "            img_resized = cv2.resize(img, (new_width, new_height))\n",
    "            cv2.imwrite(file_path, img_resized) \n",
    "    "
   ]
  },
  {
   "cell_type": "markdown",
   "id": "e866f248-3a8c-448c-89ce-dfd023789446",
   "metadata": {},
   "source": [
    "# stratified sampling on test data"
   ]
  },
  {
   "cell_type": "code",
   "execution_count": 9,
   "id": "548a600a-6ed5-432a-9ae1-2160695a9428",
   "metadata": {},
   "outputs": [
    {
     "name": "stdout",
     "output_type": "stream",
     "text": [
      "Class 0: 137 occurrences\n",
      "Class 1: 170 occurrences\n",
      "Class 2: 149 occurrences\n",
      "Class 3: 151 occurrences\n",
      "Class 4: 139 occurrences\n",
      "Class 5: 158 occurrences\n",
      "Class 6: 156 occurrences\n",
      "Class 7: 153 occurrences\n",
      "Class 8: 155 occurrences\n",
      "Class 9: 143 occurrences\n",
      "Class 10: 169 occurrences\n",
      "Class 11: 164 occurrences\n",
      "Class 12: 142 occurrences\n",
      "Class 13: 139 occurrences\n",
      "Class 14: 128 occurrences\n",
      "Class 15: 135 occurrences\n",
      "Class 16: 152 occurrences\n",
      "Class 17: 173 occurrences\n",
      "Class 18: 169 occurrences\n",
      "Class 19: 168 occurrences\n",
      "Class 20: 137 occurrences\n",
      "Class 21: 167 occurrences\n",
      "Class 22: 148 occurrences\n",
      "Class 23: 155 occurrences\n",
      "Class 24: 161 occurrences\n",
      "Class 25: 154 occurrences\n",
      "Class 26: 167 occurrences\n",
      "Class 27: 135 occurrences\n",
      "Class 28: 140 occurrences\n",
      "Class 29: 130 occurrences\n",
      "Class 30: 155 occurrences\n",
      "Class 31: 123 occurrences\n",
      "Class 32: 139 occurrences\n",
      "Class 33: 128 occurrences\n",
      "Class 34: 107 occurrences\n",
      "Class 35: 151 occurrences\n",
      "Class 36: 135 occurrences\n",
      "Class 37: 146 occurrences\n",
      "Class 38: 158 occurrences\n",
      "Class 39: 154 occurrences\n",
      "Class 40: 145 occurrences\n",
      "Class 41: 130 occurrences\n",
      "Class 42: 154 occurrences\n",
      "Class 43: 146 occurrences\n",
      "Class 44: 147 occurrences\n",
      "Class 45: 114 occurrences\n",
      "Class 46: 166 occurrences\n",
      "Class 47: 144 occurrences\n",
      "Class 48: 120 occurrences\n",
      "Class 49: 127 occurrences\n",
      "Class 50: 137 occurrences\n",
      "Class 51: 118 occurrences\n",
      "Class 52: 0 occurrences\n"
     ]
    }
   ],
   "source": [
    "test_images_path = './test/images'\n",
    "test_class_count = count_classes_in_directory(test_images_path)"
   ]
  },
  {
   "cell_type": "code",
   "execution_count": 10,
   "id": "978031db-41dc-404f-b13f-4e9fa258b74f",
   "metadata": {},
   "outputs": [
    {
     "name": "stdout",
     "output_type": "stream",
     "text": [
      "Class 0: 274 occurrences\n",
      "Class 1: 340 occurrences\n",
      "Class 2: 298 occurrences\n",
      "Class 3: 302 occurrences\n",
      "Class 4: 278 occurrences\n",
      "Class 5: 316 occurrences\n",
      "Class 6: 312 occurrences\n",
      "Class 7: 306 occurrences\n",
      "Class 8: 310 occurrences\n",
      "Class 9: 286 occurrences\n",
      "Class 10: 338 occurrences\n",
      "Class 11: 328 occurrences\n",
      "Class 12: 284 occurrences\n",
      "Class 13: 278 occurrences\n",
      "Class 14: 256 occurrences\n",
      "Class 15: 270 occurrences\n",
      "Class 16: 304 occurrences\n",
      "Class 17: 346 occurrences\n",
      "Class 18: 338 occurrences\n",
      "Class 19: 336 occurrences\n",
      "Class 20: 274 occurrences\n",
      "Class 21: 334 occurrences\n",
      "Class 22: 296 occurrences\n",
      "Class 23: 310 occurrences\n",
      "Class 24: 322 occurrences\n",
      "Class 25: 308 occurrences\n",
      "Class 26: 334 occurrences\n",
      "Class 27: 270 occurrences\n",
      "Class 28: 280 occurrences\n",
      "Class 29: 260 occurrences\n",
      "Class 30: 310 occurrences\n",
      "Class 31: 246 occurrences\n",
      "Class 32: 278 occurrences\n",
      "Class 33: 256 occurrences\n",
      "Class 34: 214 occurrences\n",
      "Class 35: 302 occurrences\n",
      "Class 36: 270 occurrences\n",
      "Class 37: 292 occurrences\n",
      "Class 38: 316 occurrences\n",
      "Class 39: 308 occurrences\n",
      "Class 40: 290 occurrences\n",
      "Class 41: 260 occurrences\n",
      "Class 42: 308 occurrences\n",
      "Class 43: 292 occurrences\n",
      "Class 44: 294 occurrences\n",
      "Class 45: 228 occurrences\n",
      "Class 46: 332 occurrences\n",
      "Class 47: 288 occurrences\n",
      "Class 48: 240 occurrences\n",
      "Class 49: 254 occurrences\n",
      "Class 50: 274 occurrences\n",
      "Class 51: 236 occurrences\n",
      "Class 52: 46 occurrences\n"
     ]
    }
   ],
   "source": [
    "test_labels_path = './test/labels'\n",
    "\n",
    "test_class_count = count_classes_in_directory(test_labels_path)"
   ]
  },
  {
   "cell_type": "code",
   "execution_count": 11,
   "id": "4f6aa5ba-7728-480d-b93f-e9ec677cd394",
   "metadata": {},
   "outputs": [
    {
     "name": "stdout",
     "output_type": "stream",
     "text": [
      "test images per class 19\n"
     ]
    }
   ],
   "source": [
    "test_images_per_class = 1007 // 53\n",
    "print(f\"test images per class {test_images_per_class}\")"
   ]
  },
  {
   "cell_type": "code",
   "execution_count": 12,
   "id": "5de64a32-dc3d-4513-ab27-29b96cffcbbc",
   "metadata": {},
   "outputs": [
    {
     "name": "stdout",
     "output_type": "stream",
     "text": [
      "{0: 19, 1: 19, 2: 19, 3: 19, 4: 19, 5: 19, 6: 19, 7: 19, 8: 19, 9: 19, 10: 19, 11: 19, 12: 19, 13: 19, 14: 19, 15: 19, 16: 19, 17: 19, 18: 19, 19: 19, 20: 19, 21: 19, 22: 19, 23: 19, 24: 19, 25: 19, 26: 19, 27: 19, 28: 19, 29: 19, 30: 19, 31: 19, 32: 19, 33: 19, 34: 19, 35: 19, 36: 19, 37: 19, 38: 19, 39: 19, 40: 19, 41: 19, 42: 19, 43: 19, 44: 19, 45: 19, 46: 19, 47: 19, 48: 19, 49: 19, 50: 19, 51: 19, 52: 19}\n"
     ]
    }
   ],
   "source": [
    "test_sample_count = get_sample_count(test_class_count, test_images_per_class)"
   ]
  },
  {
   "cell_type": "code",
   "execution_count": 13,
   "id": "78655784-9c85-42cc-8844-f31e9145f922",
   "metadata": {},
   "outputs": [
    {
     "name": "stdout",
     "output_type": "stream",
     "text": [
      "Found 2020 matching images and labels.\n",
      "Sample image path: ./test/images/361748565_jpg.rf.2050e4a49bab390fe66daf9fbd212d2a.jpg\n",
      "Sample label path: ./test/labels/361748565_jpg.rf.2050e4a49bab390fe66daf9fbd212d2a.txt\n"
     ]
    }
   ],
   "source": [
    "test_class_image_mapping = class_image_mapping(test_images_path, test_labels_path)"
   ]
  },
  {
   "cell_type": "code",
   "execution_count": 14,
   "id": "730b1e84-75d4-4f19-95f7-95d93bccff0e",
   "metadata": {},
   "outputs": [
    {
     "name": "stdout",
     "output_type": "stream",
     "text": [
      "Total images selected: 837\n"
     ]
    }
   ],
   "source": [
    "test_sample = stratified_random_sampling(test_sample_count, test_class_image_mapping)"
   ]
  },
  {
   "cell_type": "code",
   "execution_count": 16,
   "id": "706d6d43-31fa-4929-839e-6427a4aa69f3",
   "metadata": {},
   "outputs": [
    {
     "name": "stdout",
     "output_type": "stream",
     "text": [
      "processed files 837, files not found 0\n",
      "Copied 837 images to /sample\n"
     ]
    }
   ],
   "source": [
    "test_train_sample = \"./datasets/test\"\n",
    "create_sample_data(test_sample, test_train_sample, test_labels_path)"
   ]
  },
  {
   "cell_type": "code",
   "execution_count": null,
   "id": "3dd340f9-cb6d-4c39-bed2-ef66e80f6203",
   "metadata": {},
   "outputs": [],
   "source": []
  }
 ],
 "metadata": {
  "colab": {
   "provenance": []
  },
  "kernelspec": {
   "display_name": "Python 3 (ipykernel)",
   "language": "python",
   "name": "python3"
  },
  "language_info": {
   "codemirror_mode": {
    "name": "ipython",
    "version": 3
   },
   "file_extension": ".py",
   "mimetype": "text/x-python",
   "name": "python",
   "nbconvert_exporter": "python",
   "pygments_lexer": "ipython3",
   "version": "3.12.7"
  }
 },
 "nbformat": 4,
 "nbformat_minor": 5
}
